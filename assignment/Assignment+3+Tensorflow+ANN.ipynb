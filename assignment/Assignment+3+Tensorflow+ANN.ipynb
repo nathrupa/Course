{
 "cells": [
  {
   "cell_type": "code",
   "execution_count": 1,
   "metadata": {
    "collapsed": true
   },
   "outputs": [],
   "source": [
    "# Import the required packages\n",
    "import tensorflow as tf\n",
    "import numpy as np\n",
    "import pandas as pd\n",
    "import matplotlib\n",
    "import matplotlib.pyplot as plt\n",
    "import scipy\n",
    "import math\n",
    "import random\n",
    "import string\n"
   ]
  },
  {
   "cell_type": "code",
   "execution_count": 17,
   "metadata": {
    "collapsed": false
   },
   "outputs": [
    {
     "name": "stdout",
     "output_type": "stream",
     "text": [
      "   Feature1  Feature2  Target\n",
      "0  2.067788  0.258133       1\n",
      "1  0.993994 -0.609145       1\n",
      "2 -0.690315  0.749921       0\n",
      "3  1.023582  0.529003       0\n",
      "4  0.700747 -0.496724       1\n",
      "\n",
      "[5 rows x 3 columns]\n",
      "   Feature1  Feature2\n",
      "0  2.067788  0.258133\n",
      "1  0.993994 -0.609145\n",
      "2 -0.690315  0.749921\n",
      "3  1.023582  0.529003\n",
      "4  0.700747 -0.496724\n",
      "\n",
      "[5 rows x 2 columns]    Target\n",
      "0       1\n",
      "1       1\n",
      "2       0\n",
      "3       0\n",
      "4       1\n",
      "\n",
      "[5 rows x 1 columns]\n",
      "(500, 2) (500, 1)\n"
     ]
    }
   ],
   "source": [
    "#read the dataset\n",
    "train = pd.read_csv(\"intro_to_ann.csv\")\n",
    "print (train.head())\n",
    "#print(train.ix[0:5,:])\n",
    "\n",
    "#Identify input and output for training the model\n",
    "y_train = train[['Target']]\n",
    "x_train = train.ix[:, 0:2]\n",
    "print(x_train.head(),y_train.head(),)\n",
    "print(x_train.shape, y_train.shape)\n",
    "\n",
    "#Define epochs and learning rate\n",
    "epochs = 1000\n",
    "learning_rate = 0.5"
   ]
  },
  {
   "cell_type": "code",
   "execution_count": 4,
   "metadata": {
    "collapsed": true
   },
   "outputs": [],
   "source": [
    "# Make a matrix \n",
    "def makeMatrix(I, J, fill=0.0):\n",
    "    #return np.zeros([I,J])\n",
    "    return tf.zeros([I,J], tf.float32)\n",
    "\n",
    "def rand(a, z):\n",
    "    #return (b-a)*random.random() + a\n",
    "    return tf.add(tf.mul((z-a),tf.random.random()), a)\n"
   ]
  },
  {
   "cell_type": "code",
   "execution_count": 5,
   "metadata": {
    "collapsed": false
   },
   "outputs": [],
   "source": [
    "# number of input, hidden, and output nodes\n",
    "\n",
    "#ni=tf.Variable([1.0, 1.0], name=\"ni\")+1\n",
    "ni=2\n",
    "nh=1  #tf.Variable([1.0, 1.0], name=\"nh\")\n",
    "no=1  #tf.Variable([1.0, 1.0], name=\"no\")\n",
    "        \n",
    "X= tf.placeholder(\"float\", [None, 2])\n",
    "y_ = tf.placeholder(\"float\", [None, 1])\n",
    "\n",
    "# create weights\n",
    "#wi = makeMatrix(ni, nh)\n",
    "#wo = makeMatrix(nh, no)\n",
    "wi = tf.Variable(tf.zeros([ni, nh]))\n",
    "wo= tf.Variable(tf.zeros([nh, no]))\n",
    "\n",
    "b = 1\n",
    "y1 = tf.nn.softmax(tf.matmul(X, wi) + b)\n",
    "yhat=tf.sigmoid(tf.matmul(y1, wo), name=None)"
   ]
  },
  {
   "cell_type": "code",
   "execution_count": 6,
   "metadata": {
    "collapsed": true
   },
   "outputs": [],
   "source": [
    "# Initializing the variables\n",
    "model = tf.initialize_all_variables()\n",
    "        "
   ]
  },
  {
   "cell_type": "code",
   "execution_count": 7,
   "metadata": {
    "collapsed": true
   },
   "outputs": [],
   "source": [
    "# Define loss and optimizer\n",
    "cross_entropy = tf.reduce_mean(-tf.reduce_sum(y_ * tf.log(yhat), reduction_indices=[1]))\n",
    "optimizer = tf.train.GradientDescentOptimizer(learning_rate).minimize(cross_entropy)\n",
    "\n",
    "#correct_prediction = tf.equal(tf.argmax(y,1), tf.argmax(y_,1))\n",
    "#accuracy = tf.reduce_mean(tf.cast(correct_prediction, tf.float32))"
   ]
  },
  {
   "cell_type": "code",
   "execution_count": 9,
   "metadata": {
    "collapsed": false
   },
   "outputs": [],
   "source": [
    " \n",
    "errors = []\n",
    "with tf.Session() as sess:\n",
    "        sess.run(model)\n",
    "        \n",
    "        for i in range(epochs):\n",
    "            #batch_xs, batch_ys = train.train.next_batch(100)\n",
    "            #cross_entropy_value, y_value = sess.run([optimizer, cross_entropy], feed_dict={X: np.array(train.ix[:,0:2]), y_: np.array(train.ix[:,2:3])})\n",
    "            cross_entropy_value, y_value = sess.run([optimizer, cross_entropy], feed_dict={X: x_train, y_: y_train})\n",
    "            #accuracy_value = sess.run(accuracy, feed_dict={x: train.ix[0:400,0:2], y_: train.ix[0:400,2]})\n",
    "            #errors.append(1-accuracy_value)\n",
    "\n",
    "        #print (errors[-1])\n",
    "        "
   ]
  },
  {
   "cell_type": "code",
   "execution_count": null,
   "metadata": {
    "collapsed": false
   },
   "outputs": [],
   "source": [
    "print (y_value)"
   ]
  },
  {
   "cell_type": "code",
   "execution_count": null,
   "metadata": {
    "collapsed": true
   },
   "outputs": [],
   "source": []
  }
 ],
 "metadata": {
  "kernelspec": {
   "display_name": "Python 3",
   "language": "python",
   "name": "python3"
  },
  "language_info": {
   "codemirror_mode": {
    "name": "ipython",
    "version": 3
   },
   "file_extension": ".py",
   "mimetype": "text/x-python",
   "name": "python",
   "nbconvert_exporter": "python",
   "pygments_lexer": "ipython3",
   "version": "3.4.3"
  }
 },
 "nbformat": 4,
 "nbformat_minor": 1
}
